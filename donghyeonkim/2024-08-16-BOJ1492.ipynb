{
 "cells": [
  {
   "metadata": {},
   "cell_type": "markdown",
   "source": [
    "# BOJ1492: 합\n",
    "---\n",
    "\n",
    "## 문제\n",
    "N과 K가 주어졌을 때, $1^K + 2^K + 3^K + ... + N^K$를 1,000,000,007로 나눈 나머지를 구하는 프로그램을 작성하시오.\n",
    "\n",
    "\n",
    "\n",
    "\n",
    "## 풀이\n",
    "Sum 함수를 다음과 같이 정의하자\n",
    "\n",
    "$$Sum(N, K) = 1^K + 2^K + 3^K + ... + N^K$$\n",
    "\n",
    "그러면,\n",
    "\n",
    "$$Sum(N + 1, K) - Sum(N, K) = (N + 1)^K$$\n",
    "\n",
    "$$Sum(N + 1, K) - Sum(N, K) = ((N + 1)^K - N^K) + (N^K - (N - 1)^K) + (2^K - 1^K) + 1^K$$\n",
    "\n",
    "$$\\therefore (N + 1)^K - 1^K = \\sum\\limits_{m = 1}^{N} (m + 1)^K - m^K$$\n",
    "\n",
    "여기서, 급수의 항을 다음과 같이 변형할 수 있다.\n",
    "\n",
    "$$(m + 1)^K - m^K = \\sum\\limits_{i = 1}^{K-1} {K \\choose i}m^i$$\n",
    "\n",
    "### 왜?\n",
    "이항정리를 생각해보면, 직관적으로 알 수 있다.\n",
    "$$(a + b)^n = \\sum\\limits_{k = 0}^{n} {n \\choose k}a^{n-k}b^k$$\n",
    "이다.\n",
    "$$(m + 1)^K = \\sum\\limits_{i = 0}^{K} {K \\choose i}m^i$$\n",
    "이고,\n",
    "$$m^K = {K \\choose K}m^K$$\n",
    "이기 때문이다.\n",
    "<br/>\n",
    "\n",
    "따라서,\n",
    "\n",
    "$$\\sum\\limits_{m = 1}^N (m + 1)^K - m^K$$\n",
    "$$= \\sum\\limits_{m = 1}^{N} \\sum\\limits_{i = 1}^{K-1} {K \\choose i}m^i$$\n",
    "$$= \\sum\\limits_{i = 1}^{K-1} {K \\choose i} \\sum\\limits_{m = 1}^{N} m^i$$\n",
    "$$= \\sum\\limits_{i = 1}^{K-1} {K \\choose i} Sum(N, i)$$\n",
    "\n",
    "<br/>\n",
    "\n",
    "$$\\therefore (N + 1)^K - 1^K = \\sum\\limits_{i = 1}^{K-1} {K \\choose i} Sum(N, i)$$\n",
    "\n",
    "여기서 급수의 항 하나만 떼와보자\n",
    "\n",
    "$${K \\choose K - 1} Sum(N, K - 1) = (N + 1)^K - 1^K - \\sum\\limits_{i = 1}^{K-2} {K \\choose i} Sum(N, i)$$\n",
    "\n",
    "K <- K + 1을 해주고 나면\n",
    "\n",
    "$${K + 1 \\choose K} Sum(N, K) = (N + 1)^{K + 1} - \\sum\\limits_{i = 1}^{K-1} {K + 1 \\choose i} Sum(N, i) - 1$$"
   ],
   "id": "50c8957b397f21d6"
  },
  {
   "metadata": {},
   "cell_type": "code",
   "outputs": [],
   "execution_count": null,
   "source": "",
   "id": "ebf06c10821eb9b2"
  },
  {
   "metadata": {},
   "cell_type": "markdown",
   "source": "",
   "id": "6d974689701663c1"
  }
 ],
 "metadata": {
  "kernelspec": {
   "display_name": "Python 3",
   "language": "python",
   "name": "python3"
  },
  "language_info": {
   "codemirror_mode": {
    "name": "ipython",
    "version": 2
   },
   "file_extension": ".py",
   "mimetype": "text/x-python",
   "name": "python",
   "nbconvert_exporter": "python",
   "pygments_lexer": "ipython2",
   "version": "2.7.6"
  }
 },
 "nbformat": 4,
 "nbformat_minor": 5
}
