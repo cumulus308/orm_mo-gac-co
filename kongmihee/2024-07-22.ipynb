{
 "cells": [
  {
   "cell_type": "markdown",
   "metadata": {},
   "source": [
    "# Algorithm Basic 100\n",
    "[링크](https://100.pyalgo.co.kr/?page=21#)\n",
    "\n",
    "## Q21. 숫자 배열 탐색\n",
    "\n",
    "### 문제\n",
    " * 정렬된 숫자 배열과 타겟 숫자가 주어집니다. 주어진 배열에서 타겟 숫자의 위치(인덱스)를 찾는 코드를 작성해주세요. 배열에 타겟 숫자가 없는 경우 False를 반환합니다.\n",
    "\n",
    "### 제한사항\n",
    " * 배열은 오름차순으로 정렬되어 있습니다.\n",
    " * 배열에 중복된 숫자는 없습니다.\n",
    " * 배열의 크기는 최소 1에서 최대 100까지 입니다."
   ]
  },
  {
   "cell_type": "code",
   "execution_count": 4,
   "metadata": {},
   "outputs": [],
   "source": [
    "# solution 1\n",
    "# Binary Search\n",
    "\n",
    "def solution(data) : \n",
    "    arr = data[0]\n",
    "    target = data[1] \n",
    "    left, right = 0 , len(arr)-1\n",
    "    \n",
    "    while left <=right : \n",
    "        mid = (left +right) // 2\n",
    "        \n",
    "        if arr[mid] == target : \n",
    "            return mid \n",
    "        elif arr[mid] < target : \n",
    "            left = mid + 1 \n",
    "        else : \n",
    "            right = mid -1\n",
    "    return False\n"
   ]
  },
  {
   "cell_type": "code",
   "execution_count": 5,
   "metadata": {},
   "outputs": [
    {
     "name": "stdout",
     "output_type": "stream",
     "text": [
      "2\n",
      "False\n"
     ]
    }
   ],
   "source": [
    "# 예시 배열과 타겟\n",
    "test1 = ([1, 3, 5, 7, 9], 5)\n",
    "print(solution(test1))\n",
    "\n",
    "test2 = (([2, 4, 6, 8, 10], 7))\n",
    "print(solution(test2))"
   ]
  }
 ],
 "metadata": {
  "kernelspec": {
   "display_name": "base",
   "language": "python",
   "name": "python3"
  },
  "language_info": {
   "codemirror_mode": {
    "name": "ipython",
    "version": 3
   },
   "file_extension": ".py",
   "mimetype": "text/x-python",
   "name": "python",
   "nbconvert_exporter": "python",
   "pygments_lexer": "ipython3",
   "version": "3.11.7"
  }
 },
 "nbformat": 4,
 "nbformat_minor": 2
}
