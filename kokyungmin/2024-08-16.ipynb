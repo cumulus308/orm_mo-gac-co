{
 "cells": [
  {
   "cell_type": "markdown",
   "metadata": {},
   "source": [
    "https://www.acmicpc.net/problem/2751\n",
    "\n",
    "백준 문제\n",
    "\n",
    "- 문제\n",
    " N개의 수가 주어졌을 때, 이를 오름차순으로 정렬하는 프로그램을 작성하시오.\n",
    "\n",
    "- 입력\n",
    " 첫째 줄에 수의 개수 N(1 ≤ N ≤ 1,000,000)이 주어진다. 둘째 줄부터 N개의 줄에는 수가 주어진다. 이 수는 절댓값이 1,000,000보다 작거나 같은 정수이다. 수는 중복되지 않는다.\n",
    "\n",
    "- 출력\n",
    " 첫째 줄부터 N개의 줄에 오름차순으로 정렬한 결과를 한 줄에 하나씩 출력한다."
   ]
  },
  {
   "cell_type": "code",
   "execution_count": null,
   "metadata": {},
   "outputs": [],
   "source": [
    "# 수 정렬하기 2 # 2751번\n",
    "\n",
    "N = int(input()) # 몇개의 데이터가 있는지 확인\n",
    "num_list = [] # 빈 리스트 생성\n",
    "for i in range(N): # N번의 반복을 진행\n",
    "    num_list.append(int(input())) # 리스트에 입력받은 숫자를 추가\n",
    "\n",
    "num_list.sort() # 리스트 정렬\n",
    "for j in num_list: # 순차적으로 출력\n",
    "    print(j)"
   ]
  },
  {
   "cell_type": "code",
   "execution_count": null,
   "metadata": {},
   "outputs": [],
   "source": [
    "# 수 정렬하기 2 # 2751번\n",
    "import sys\n",
    "\n",
    "# sys.stdin.read() 은 sys 라는 모듈의 파일 객체 stdin 의 메소드 중 \n",
    "# read() 을 사용한다는 의미\n",
    "data = sys.stdin.read().split() # 파일을 입력받음\n",
    "\n",
    "num_list = list(map(int, data[1:])) # int 타입으로 전환 후 리스트로 만듦\n",
    "\n",
    "num_list.sort() # 리스트 정렬\n",
    "\n",
    "sys.stdout.write(\"\\n\".join(map(str, num_list)) + \"\\n\") # (+ \"\\n\") 이 부분은 지워도 됨\n"
   ]
  }
 ],
 "metadata": {
  "language_info": {
   "name": "python"
  }
 },
 "nbformat": 4,
 "nbformat_minor": 2
}
